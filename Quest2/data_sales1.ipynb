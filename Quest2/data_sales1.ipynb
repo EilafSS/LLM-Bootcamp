{
 "cells": [
  {
   "cell_type": "code",
   "execution_count": 18,
   "metadata": {},
   "outputs": [],
   "source": [
    "import pandas as pd   #create data frame\n",
    "import numpy as np\n",
    "import matplotlib.pyplot as plt\n",
    "import seaborn as sns\n",
    "import requests\n"
   ]
  },
  {
   "cell_type": "code",
   "execution_count": 19,
   "metadata": {},
   "outputs": [
    {
     "data": {
      "text/html": [
       "<div>\n",
       "<style scoped>\n",
       "    .dataframe tbody tr th:only-of-type {\n",
       "        vertical-align: middle;\n",
       "    }\n",
       "\n",
       "    .dataframe tbody tr th {\n",
       "        vertical-align: top;\n",
       "    }\n",
       "\n",
       "    .dataframe thead th {\n",
       "        text-align: right;\n",
       "    }\n",
       "</style>\n",
       "<table border=\"1\" class=\"dataframe\">\n",
       "  <thead>\n",
       "    <tr style=\"text-align: right;\">\n",
       "      <th></th>\n",
       "      <th>Retailer</th>\n",
       "      <th>Retailer ID</th>\n",
       "      <th>Invoice Date</th>\n",
       "      <th>Region</th>\n",
       "      <th>State</th>\n",
       "      <th>City</th>\n",
       "      <th>Product</th>\n",
       "      <th>Price per Unit</th>\n",
       "      <th>Units Sold</th>\n",
       "      <th>Total Sales</th>\n",
       "      <th>Operating Profit</th>\n",
       "      <th>Sales Method</th>\n",
       "    </tr>\n",
       "  </thead>\n",
       "  <tbody>\n",
       "    <tr>\n",
       "      <th>0</th>\n",
       "      <td>Walmart</td>\n",
       "      <td>1128299</td>\n",
       "      <td>6/17/2021</td>\n",
       "      <td>Southeast</td>\n",
       "      <td>Florida</td>\n",
       "      <td>Orlando</td>\n",
       "      <td>Women's Apparel</td>\n",
       "      <td>$103.00</td>\n",
       "      <td>218</td>\n",
       "      <td>2,245</td>\n",
       "      <td>$1,257</td>\n",
       "      <td>Online</td>\n",
       "    </tr>\n",
       "    <tr>\n",
       "      <th>1</th>\n",
       "      <td>West Gear</td>\n",
       "      <td>1128299</td>\n",
       "      <td>7/16/2021</td>\n",
       "      <td>South</td>\n",
       "      <td>Louisiana</td>\n",
       "      <td>New Orleans</td>\n",
       "      <td>Women's Apparel</td>\n",
       "      <td>$103.00</td>\n",
       "      <td>163</td>\n",
       "      <td>1,679</td>\n",
       "      <td>$806</td>\n",
       "      <td>Online</td>\n",
       "    </tr>\n",
       "    <tr>\n",
       "      <th>2</th>\n",
       "      <td>Sports Direct</td>\n",
       "      <td>1197831</td>\n",
       "      <td>8/25/2021</td>\n",
       "      <td>South</td>\n",
       "      <td>Alabama</td>\n",
       "      <td>Birmingham</td>\n",
       "      <td>Men's Street Footwear</td>\n",
       "      <td>$10.00</td>\n",
       "      <td>700</td>\n",
       "      <td>7,000</td>\n",
       "      <td>$3,150</td>\n",
       "      <td>Outlet</td>\n",
       "    </tr>\n",
       "    <tr>\n",
       "      <th>3</th>\n",
       "      <td>Sports Direct</td>\n",
       "      <td>1197831</td>\n",
       "      <td>8/27/2021</td>\n",
       "      <td>South</td>\n",
       "      <td>Alabama</td>\n",
       "      <td>Birmingham</td>\n",
       "      <td>Women's Street Footwear</td>\n",
       "      <td>$15.00</td>\n",
       "      <td>575</td>\n",
       "      <td>8,625</td>\n",
       "      <td>$3,881</td>\n",
       "      <td>Outlet</td>\n",
       "    </tr>\n",
       "    <tr>\n",
       "      <th>4</th>\n",
       "      <td>Sports Direct</td>\n",
       "      <td>1197831</td>\n",
       "      <td>8/21/2021</td>\n",
       "      <td>South</td>\n",
       "      <td>Alabama</td>\n",
       "      <td>Birmingham</td>\n",
       "      <td>Women's Street Footwear</td>\n",
       "      <td>$15.00</td>\n",
       "      <td>475</td>\n",
       "      <td>7,125</td>\n",
       "      <td>$3,206</td>\n",
       "      <td>Outlet</td>\n",
       "    </tr>\n",
       "    <tr>\n",
       "      <th>...</th>\n",
       "      <td>...</td>\n",
       "      <td>...</td>\n",
       "      <td>...</td>\n",
       "      <td>...</td>\n",
       "      <td>...</td>\n",
       "      <td>...</td>\n",
       "      <td>...</td>\n",
       "      <td>...</td>\n",
       "      <td>...</td>\n",
       "      <td>...</td>\n",
       "      <td>...</td>\n",
       "      <td>...</td>\n",
       "    </tr>\n",
       "    <tr>\n",
       "      <th>9636</th>\n",
       "      <td>Amazon</td>\n",
       "      <td>1185732</td>\n",
       "      <td>11/18/2021</td>\n",
       "      <td>Northeast</td>\n",
       "      <td>Maine</td>\n",
       "      <td>Portland</td>\n",
       "      <td>Men's Apparel</td>\n",
       "      <td>$65.00</td>\n",
       "      <td>150</td>\n",
       "      <td>9,750</td>\n",
       "      <td>$2,438</td>\n",
       "      <td>Outlet</td>\n",
       "    </tr>\n",
       "    <tr>\n",
       "      <th>9637</th>\n",
       "      <td>Amazon</td>\n",
       "      <td>1185732</td>\n",
       "      <td>10/22/2021</td>\n",
       "      <td>West</td>\n",
       "      <td>Alaska</td>\n",
       "      <td>Anchorage</td>\n",
       "      <td>Women's Athletic Footwear</td>\n",
       "      <td>$65.00</td>\n",
       "      <td>150</td>\n",
       "      <td>9,750</td>\n",
       "      <td>$2,438</td>\n",
       "      <td>Outlet</td>\n",
       "    </tr>\n",
       "    <tr>\n",
       "      <th>9638</th>\n",
       "      <td>Amazon</td>\n",
       "      <td>1185732</td>\n",
       "      <td>10/22/2021</td>\n",
       "      <td>West</td>\n",
       "      <td>Alaska</td>\n",
       "      <td>Anchorage</td>\n",
       "      <td>Men's Apparel</td>\n",
       "      <td>$75.00</td>\n",
       "      <td>150</td>\n",
       "      <td>11,250</td>\n",
       "      <td>$2,813</td>\n",
       "      <td>Outlet</td>\n",
       "    </tr>\n",
       "    <tr>\n",
       "      <th>9639</th>\n",
       "      <td>West Gear</td>\n",
       "      <td>1185732</td>\n",
       "      <td>4/10/2021</td>\n",
       "      <td>Midwest</td>\n",
       "      <td>Indiana</td>\n",
       "      <td>Indianapolis</td>\n",
       "      <td>Men's Apparel</td>\n",
       "      <td>$65.00</td>\n",
       "      <td>150</td>\n",
       "      <td>9,750</td>\n",
       "      <td>$2,925</td>\n",
       "      <td>In-store</td>\n",
       "    </tr>\n",
       "    <tr>\n",
       "      <th>9640</th>\n",
       "      <td>Sports Direct</td>\n",
       "      <td>1185732</td>\n",
       "      <td>10/5/2021</td>\n",
       "      <td>Northeast</td>\n",
       "      <td>Connecticut</td>\n",
       "      <td>Hartford</td>\n",
       "      <td>Men's Apparel</td>\n",
       "      <td>$65.00</td>\n",
       "      <td>150</td>\n",
       "      <td>9,750</td>\n",
       "      <td>$2,925</td>\n",
       "      <td>In-store</td>\n",
       "    </tr>\n",
       "  </tbody>\n",
       "</table>\n",
       "<p>9641 rows × 12 columns</p>\n",
       "</div>"
      ],
      "text/plain": [
       "           Retailer  Retailer ID Invoice Date     Region        State  \\\n",
       "0           Walmart      1128299    6/17/2021  Southeast      Florida   \n",
       "1         West Gear      1128299    7/16/2021      South    Louisiana   \n",
       "2     Sports Direct      1197831    8/25/2021      South      Alabama   \n",
       "3     Sports Direct      1197831    8/27/2021      South      Alabama   \n",
       "4     Sports Direct      1197831    8/21/2021      South      Alabama   \n",
       "...             ...          ...          ...        ...          ...   \n",
       "9636         Amazon      1185732   11/18/2021  Northeast        Maine   \n",
       "9637         Amazon      1185732   10/22/2021       West       Alaska   \n",
       "9638         Amazon      1185732   10/22/2021       West       Alaska   \n",
       "9639      West Gear      1185732    4/10/2021    Midwest      Indiana   \n",
       "9640  Sports Direct      1185732    10/5/2021  Northeast  Connecticut   \n",
       "\n",
       "              City                    Product Price per Unit Units Sold  \\\n",
       "0          Orlando            Women's Apparel       $103.00         218   \n",
       "1      New Orleans            Women's Apparel       $103.00         163   \n",
       "2       Birmingham      Men's Street Footwear        $10.00         700   \n",
       "3       Birmingham    Women's Street Footwear        $15.00         575   \n",
       "4       Birmingham    Women's Street Footwear        $15.00         475   \n",
       "...            ...                        ...            ...        ...   \n",
       "9636      Portland              Men's Apparel        $65.00         150   \n",
       "9637     Anchorage  Women's Athletic Footwear        $65.00         150   \n",
       "9638     Anchorage              Men's Apparel        $75.00         150   \n",
       "9639  Indianapolis              Men's Apparel        $65.00         150   \n",
       "9640      Hartford              Men's Apparel        $65.00         150   \n",
       "\n",
       "     Total Sales Operating Profit Sales Method  \n",
       "0          2,245          $1,257        Online  \n",
       "1          1,679            $806        Online  \n",
       "2          7,000          $3,150        Outlet  \n",
       "3          8,625          $3,881        Outlet  \n",
       "4          7,125          $3,206        Outlet  \n",
       "...          ...              ...          ...  \n",
       "9636       9,750          $2,438        Outlet  \n",
       "9637       9,750          $2,438        Outlet  \n",
       "9638      11,250          $2,813        Outlet  \n",
       "9639       9,750          $2,925      In-store  \n",
       "9640       9,750          $2,925      In-store  \n",
       "\n",
       "[9641 rows x 12 columns]"
      ]
     },
     "execution_count": 19,
     "metadata": {},
     "output_type": "execute_result"
    }
   ],
   "source": [
    "df = pd.read_csv(\"data_sales.csv\")\n",
    "df"
   ]
  },
  {
   "cell_type": "code",
   "execution_count": 20,
   "metadata": {},
   "outputs": [
    {
     "name": "stdout",
     "output_type": "stream",
     "text": [
      "        Retailer  Retailer ID Invoice Date     Region      State         City  \\\n",
      "0        Walmart      1128299    6/17/2021  Southeast    Florida      Orlando   \n",
      "1      West Gear      1128299    7/16/2021      South  Louisiana  New Orleans   \n",
      "2  Sports Direct      1197831    8/25/2021      South    Alabama   Birmingham   \n",
      "3  Sports Direct      1197831    8/27/2021      South    Alabama   Birmingham   \n",
      "4  Sports Direct      1197831    8/21/2021      South    Alabama   Birmingham   \n",
      "\n",
      "                   Product Price per Unit Units Sold Total Sales  \\\n",
      "0          Women's Apparel       $103.00         218       2,245   \n",
      "1          Women's Apparel       $103.00         163       1,679   \n",
      "2    Men's Street Footwear        $10.00         700       7,000   \n",
      "3  Women's Street Footwear        $15.00         575       8,625   \n",
      "4  Women's Street Footwear        $15.00         475       7,125   \n",
      "\n",
      "  Operating Profit Sales Method  \n",
      "0          $1,257        Online  \n",
      "1            $806        Online  \n",
      "2          $3,150        Outlet  \n",
      "3          $3,881        Outlet  \n",
      "4          $3,206        Outlet  \n"
     ]
    }
   ],
   "source": [
    "print(df.head())"
   ]
  },
  {
   "cell_type": "code",
   "execution_count": 21,
   "metadata": {},
   "outputs": [
    {
     "name": "stdout",
     "output_type": "stream",
     "text": [
      "(9641, 12)\n"
     ]
    }
   ],
   "source": [
    "# No. of culomns & rows\n",
    "print(df.shape)\n"
   ]
  },
  {
   "cell_type": "code",
   "execution_count": 22,
   "metadata": {},
   "outputs": [
    {
     "name": "stdout",
     "output_type": "stream",
     "text": [
      "Retailer            object\n",
      "Retailer ID          int64\n",
      "Invoice Date        object\n",
      "Region              object\n",
      "State               object\n",
      "City                object\n",
      "Product             object\n",
      "Price per Unit      object\n",
      "Units Sold          object\n",
      "Total Sales         object\n",
      "Operating Profit    object\n",
      "Sales Method        object\n",
      "dtype: object\n"
     ]
    }
   ],
   "source": [
    "# Type of culomns\n",
    "print(df.dtypes)"
   ]
  },
  {
   "cell_type": "code",
   "execution_count": 23,
   "metadata": {},
   "outputs": [
    {
     "name": "stdout",
     "output_type": "stream",
     "text": [
      "Retailer            0\n",
      "Retailer ID         0\n",
      "Invoice Date        0\n",
      "Region              0\n",
      "State               0\n",
      "City                0\n",
      "Product             0\n",
      "Price per Unit      2\n",
      "Units Sold          0\n",
      "Total Sales         0\n",
      "Operating Profit    0\n",
      "Sales Method        0\n",
      "dtype: int64\n"
     ]
    }
   ],
   "source": [
    "# Missing values\n",
    "print(df.isna().sum())"
   ]
  },
  {
   "cell_type": "code",
   "execution_count": 25,
   "metadata": {},
   "outputs": [],
   "source": [
    "# First: make sure that columns are clean and numeric\n",
    "df[\"Price per Unit\"] = (\n",
    "    df[\"Price per Unit\"]\n",
    "    .astype(str)                               # temperory transfare it to string\n",
    "    .str.replace(r\"[\\$,]\", \"\", regex=True)     # remove any noisy values $ or ,\n",
    "    .str.strip()                               # remove spaces \n",
    ")\n",
    "df[\"Price per Unit\"] = pd.to_numeric(df[\"Price per Unit\"], errors=\"coerce\")\n",
    "# Second: fill the missing values by average\n",
    "df[\"Price per Unit\"] = df[\"Price per Unit\"].fillna(df[\"Price per Unit\"].mean())"
   ]
  },
  {
   "cell_type": "code",
   "execution_count": 26,
   "metadata": {},
   "outputs": [],
   "source": [
    "for col in [\"Total Sales\", \"Price per Unit\", \"Operating Profit\"]:\n",
    "    df[col] = df[col].replace(r\"[\\$,]\", \"\", regex=True).astype(float)"
   ]
  },
  {
   "cell_type": "code",
   "execution_count": 27,
   "metadata": {},
   "outputs": [],
   "source": [
    "df[\"Invoice Date\"] = pd.to_datetime(df[\"Invoice Date\"], errors=\"coerce\")\n"
   ]
  },
  {
   "cell_type": "code",
   "execution_count": 28,
   "metadata": {},
   "outputs": [],
   "source": [
    "# Direct assignments\n",
    "df[\"Price per Unit\"] = df[\"Price per Unit\"].fillna(df[\"Price per Unit\"].mean())\n",
    "\n"
   ]
  },
  {
   "cell_type": "code",
   "execution_count": 29,
   "metadata": {},
   "outputs": [],
   "source": [
    "# clean and transfer any misiing values in cash columns \n",
    "for col in [\"Total Sales\", \"Price per Unit\", \"Operating Profit\"]:\n",
    "    df[col] = (df[col].astype(str).str.replace(r\"[\\$,]\", \"\", regex=True))\n",
    "    df[col] = pd.to_numeric(df[col], errors=\"coerce\")\n",
    "\n",
    "# transfers Units Sold to Numeric\n",
    "df[\"Units Sold\"] = pd.to_numeric(df[\"Units Sold\"], errors=\"coerce\")\n",
    "\n",
    "# fill missing values withoutt inplace in Series\n",
    "df[\"Price per Unit\"] = df[\"Price per Unit\"].fillna(df[\"Price per Unit\"].mean())\n",
    "df[\"Units Sold\"]     = df[\"Units Sold\"].fillna(df[\"Units Sold\"].median())"
   ]
  },
  {
   "cell_type": "code",
   "execution_count": 30,
   "metadata": {},
   "outputs": [],
   "source": [
    "df[\"Profit Margin\"] = df[\"Operating Profit\"] / df[\"Total Sales\"]"
   ]
  },
  {
   "cell_type": "code",
   "execution_count": 43,
   "metadata": {},
   "outputs": [
    {
     "name": "stdout",
     "output_type": "stream",
     "text": [
      "Top 10 Products by Sales:\n",
      " Product\n",
      "Men's Street Footwear        20882669.0\n",
      "Women's Apparel              17847910.0\n",
      "Men's Athletic Footwear      15322410.0\n",
      "Women's Street Footwear      12770688.0\n",
      "Men's Apparel                12283155.0\n",
      "Women's Athletic Footwear    10659235.0\n",
      "Men's aparel                    54000.0\n",
      "Name: Total Sales, dtype: float64 \n",
      "\n"
     ]
    }
   ],
   "source": [
    "# Highst salers\n",
    "top10_sales = (\n",
    "    df.groupby(\"Product\")[\"Total Sales\"]\n",
    "      .sum()\n",
    "      .sort_values(ascending=False)\n",
    "      .head(10)\n",
    ")\n",
    "print(\"Top 10 Products by Sales:\\n\", top10_sales, \"\\n\")"
   ]
  },
  {
   "cell_type": "code",
   "execution_count": 44,
   "metadata": {},
   "outputs": [
    {
     "name": "stdout",
     "output_type": "stream",
     "text": [
      "Top 10 Products by Operating Profit:\n",
      " Product\n",
      "Men's Street Footwear        8280294.0\n",
      "Women's Apparel              6856750.0\n",
      "Men's Athletic Footwear      5168997.0\n",
      "Women's Street Footwear      4499284.0\n",
      "Men's Apparel                4440519.0\n",
      "Women's Athletic Footwear    3896040.0\n",
      "Men's aparel                   16200.0\n",
      "Name: Operating Profit, dtype: float64 \n",
      "\n"
     ]
    }
   ],
   "source": [
    "# أthe products that have highest profit \n",
    "top10_profit = (\n",
    "    df.groupby(\"Product\")[\"Operating Profit\"]\n",
    "      .sum()\n",
    "      .sort_values(ascending=False)\n",
    "      .head(10)\n",
    ")\n",
    "print(\"Top 10 Products by Operating Profit:\\n\", top10_profit, \"\\n\")"
   ]
  },
  {
   "cell_type": "code",
   "execution_count": 45,
   "metadata": {},
   "outputs": [
    {
     "name": "stdout",
     "output_type": "stream",
     "text": [
      "Sales by Region:\n",
      " Region\n",
      "West         26902628.0\n",
      "Northeast    18632487.0\n",
      "Southeast    16317146.0\n",
      "South        14407736.0\n",
      "Midwest      13560070.0\n",
      "Name: Total Sales, dtype: float64 \n",
      "\n"
     ]
    }
   ],
   "source": [
    "#seprating based on regions\n",
    "sales_by_region = df.groupby(\"Region\")[\"Total Sales\"].sum().sort_values(ascending=False)\n",
    "print(\"Sales by Region:\\n\", sales_by_region, \"\\n\")\n"
   ]
  },
  {
   "cell_type": "code",
   "execution_count": 46,
   "metadata": {},
   "outputs": [
    {
     "data": {
      "image/png": "[encoded data removed]",
      "text/plain": [
       "<Figure size 1200x600 with 1 Axes>"
      ]
     },
     "metadata": {},
     "output_type": "display_data"
    }
   ],
   "source": [
    "# the direction of products thruogh the months \n",
    "df[\"Invoice Date\"] = pd.to_datetime(df[\"Invoice Date\"], errors=\"coerce\")\n",
    "monthly_sales = df.groupby(df[\"Invoice Date\"].dt.to_period(\"M\"))[\"Total Sales\"].sum()\n",
    "\n",
    "monthly_sales.plot(kind=\"line\", marker=\"o\", figsize=(12,6))\n",
    "plt.title(\"Monthly Sales Trend\")\n",
    "plt.xlabel(\"Month\")\n",
    "plt.ylabel(\"Total Sales\")\n",
    "plt.grid(True)\n",
    "plt.show()\n"
   ]
  },
  {
   "cell_type": "code",
   "execution_count": 47,
   "metadata": {},
   "outputs": [
    {
     "name": "stdout",
     "output_type": "stream",
     "text": [
      "Top State:\n",
      " State\n",
      "New York    6422918.0\n",
      "Name: Total Sales, dtype: float64 \n",
      "\n",
      "Top 10 Cities:\n",
      " City\n",
      "Charleston       3997485.0\n",
      "New York         3980134.0\n",
      "San Francisco    3362174.0\n",
      "Miami            3160090.0\n",
      "Portland         3054564.0\n",
      "Orlando          2768290.0\n",
      "Seattle          2633075.0\n",
      "Los Angeles      2563500.0\n",
      "Houston          2487067.0\n",
      "Albany           2442784.0\n",
      "Name: Total Sales, dtype: float64 \n",
      "\n"
     ]
    }
   ],
   "source": [
    "# highest state and cities \n",
    "top_state = df.groupby(\"State\")[\"Total Sales\"].sum().sort_values(ascending=False).head(1)\n",
    "print(\"Top State:\\n\", top_state, \"\\n\")\n",
    "\n",
    "top10_cities = df.groupby(\"City\")[\"Total Sales\"].sum().sort_values(ascending=False).head(10)\n",
    "print(\"Top 10 Cities:\\n\", top10_cities, \"\\n\")\n"
   ]
  },
  {
   "cell_type": "code",
   "execution_count": 48,
   "metadata": {},
   "outputs": [
    {
     "name": "stdout",
     "output_type": "stream",
     "text": [
      "Sales Share by Method (%):\n",
      " Sales Method\n",
      "In-store    39.71\n",
      "Online      27.57\n",
      "Outlet      32.72\n",
      "Name: Total Sales, dtype: float64 \n",
      "\n"
     ]
    },
    {
     "data": {
      "image/png": "[encoded data removed]",
      "text/plain": [
       "<Figure size 600x600 with 1 Axes>"
      ]
     },
     "metadata": {},
     "output_type": "display_data"
    }
   ],
   "source": [
    "# precent of Distribution by Method\n",
    "sales_method = df.groupby(\"Sales Method\")[\"Total Sales\"].sum()\n",
    "share = (sales_method / sales_method.sum() * 100).round(2)\n",
    "print(\"Sales Share by Method (%):\\n\", share, \"\\n\")\n",
    "\n",
    "share.plot(kind=\"pie\", autopct='%1.1f%%', figsize=(6,6), ylabel=\"\")\n",
    "plt.title(\"Sales Distribution by Method\")\n",
    "plt.show()"
   ]
  },
  {
   "cell_type": "code",
   "execution_count": 49,
   "metadata": {},
   "outputs": [
    {
     "name": "stdout",
     "output_type": "stream",
     "text": [
      "Correlation Price vs Units Sold: 0.2594207186731898\n"
     ]
    }
   ],
   "source": [
    "# the relation between price and the number of units sold\n",
    "#علاقة السعر بعدد الوحدات\n",
    "corr = df[\"Price per Unit\"].corr(df[\"Units Sold\"])\n",
    "print(\"Correlation Price vs Units Sold:\", corr)"
   ]
  },
  {
   "cell_type": "code",
   "execution_count": 50,
   "metadata": {},
   "outputs": [
    {
     "data": {
      "text/plain": [
       "Retailer            0\n",
       "Retailer ID         0\n",
       "Invoice Date        0\n",
       "Region              0\n",
       "State               0\n",
       "City                0\n",
       "Product             0\n",
       "Price per Unit      0\n",
       "Units Sold          0\n",
       "Total Sales         0\n",
       "Operating Profit    0\n",
       "Sales Method        0\n",
       "Profit Margin       0\n",
       "dtype: int64"
      ]
     },
     "execution_count": 50,
     "metadata": {},
     "output_type": "execute_result"
    }
   ],
   "source": [
    "df.isna().sum()"
   ]
  },
  {
   "cell_type": "code",
   "execution_count": 39,
   "metadata": {},
   "outputs": [
    {
     "data": {
      "text/html": [
       "<div>\n",
       "<style scoped>\n",
       "    .dataframe tbody tr th:only-of-type {\n",
       "        vertical-align: middle;\n",
       "    }\n",
       "\n",
       "    .dataframe tbody tr th {\n",
       "        vertical-align: top;\n",
       "    }\n",
       "\n",
       "    .dataframe thead th {\n",
       "        text-align: right;\n",
       "    }\n",
       "</style>\n",
       "<table border=\"1\" class=\"dataframe\">\n",
       "  <thead>\n",
       "    <tr style=\"text-align: right;\">\n",
       "      <th></th>\n",
       "      <th>Product</th>\n",
       "      <th>Total Sales</th>\n",
       "      <th>Operating Profit</th>\n",
       "      <th>Profit Margin</th>\n",
       "    </tr>\n",
       "  </thead>\n",
       "  <tbody>\n",
       "    <tr>\n",
       "      <th>6529</th>\n",
       "      <td>Women's Athletic Footwear</td>\n",
       "      <td>0.0</td>\n",
       "      <td>0.0</td>\n",
       "      <td>NaN</td>\n",
       "    </tr>\n",
       "    <tr>\n",
       "      <th>6530</th>\n",
       "      <td>Women's Athletic Footwear</td>\n",
       "      <td>0.0</td>\n",
       "      <td>0.0</td>\n",
       "      <td>NaN</td>\n",
       "    </tr>\n",
       "    <tr>\n",
       "      <th>6531</th>\n",
       "      <td>Women's Athletic Footwear</td>\n",
       "      <td>0.0</td>\n",
       "      <td>0.0</td>\n",
       "      <td>NaN</td>\n",
       "    </tr>\n",
       "    <tr>\n",
       "      <th>6532</th>\n",
       "      <td>Women's Athletic Footwear</td>\n",
       "      <td>0.0</td>\n",
       "      <td>0.0</td>\n",
       "      <td>NaN</td>\n",
       "    </tr>\n",
       "  </tbody>\n",
       "</table>\n",
       "</div>"
      ],
      "text/plain": [
       "                        Product  Total Sales  Operating Profit  Profit Margin\n",
       "6529  Women's Athletic Footwear          0.0               0.0            NaN\n",
       "6530  Women's Athletic Footwear          0.0               0.0            NaN\n",
       "6531  Women's Athletic Footwear          0.0               0.0            NaN\n",
       "6532  Women's Athletic Footwear          0.0               0.0            NaN"
      ]
     },
     "execution_count": 39,
     "metadata": {},
     "output_type": "execute_result"
    }
   ],
   "source": [
    "df[df[\"Total Sales\"] == 0][[\"Product\", \"Total Sales\", \"Operating Profit\", \"Profit Margin\"]]"
   ]
  },
  {
   "cell_type": "code",
   "execution_count": 40,
   "metadata": {},
   "outputs": [
    {
     "name": "stderr",
     "output_type": "stream",
     "text": [
      "/var/folders/c9/w3_8b3ms207f60lsbks2863w0000gn/T/ipykernel_72803/190200537.py:1: FutureWarning: A value is trying to be set on a copy of a DataFrame or Series through chained assignment using an inplace method.\n",
      "The behavior will change in pandas 3.0. This inplace method will never work because the intermediate object on which we are setting values always behaves as a copy.\n",
      "\n",
      "For example, when doing 'df[col].method(value, inplace=True)', try using 'df.method({col: value}, inplace=True)' or df[col] = df[col].method(value) instead, to perform the operation inplace on the original object.\n",
      "\n",
      "\n",
      "  df[\"Profit Margin\"].fillna(0, inplace=True)\n"
     ]
    }
   ],
   "source": [
    "df[\"Profit Margin\"].fillna(0, inplace=True)"
   ]
  },
  {
   "cell_type": "code",
   "execution_count": 2,
   "metadata": {},
   "outputs": [
    {
     "data": {
      "text/plain": [
       "Retailer            0\n",
       "Retailer ID         0\n",
       "Invoice Date        0\n",
       "Region              0\n",
       "State               0\n",
       "City                0\n",
       "Product             0\n",
       "Price per Unit      0\n",
       "Units Sold          0\n",
       "Total Sales         0\n",
       "Operating Profit    0\n",
       "Sales Method        0\n",
       "Profit Margin       0\n",
       "dtype: int64"
      ]
     },
     "execution_count": 41,
     "metadata": {},
     "output_type": "execute_result"
    }
   ],
   "source": [
    "df.isna().sum()"
   ]
  }
 ],
 "metadata": {
  "kernelspec": {
   "display_name": "venv2",
   "language": "python",
   "name": "python3"
  },
  "language_info": {
   "codemirror_mode": {
    "name": "ipython",
    "version": 3
   },
   "file_extension": ".py",
   "mimetype": "text/x-python",
   "name": "python",
   "nbconvert_exporter": "python",
   "pygments_lexer": "ipython3",
   "version": "3.11.13"
  }
 },
 "nbformat": 4,
 "nbformat_minor": 2
}
